{
  "nbformat": 4,
  "nbformat_minor": 0,
  "metadata": {
    "colab": {
      "provenance": [],
      "authorship_tag": "ABX9TyO6qfpIiunTPdNsAhcAIiky",
      "include_colab_link": true
    },
    "kernelspec": {
      "name": "python3",
      "display_name": "Python 3"
    },
    "language_info": {
      "name": "python"
    }
  },
  "cells": [
    {
      "cell_type": "markdown",
      "metadata": {
        "id": "view-in-github",
        "colab_type": "text"
      },
      "source": [
        "<a href=\"https://colab.research.google.com/github/Lee2008-cyber/Mini-Project-1/blob/main/Mini_Project__1.ipynb\" target=\"_parent\"><img src=\"https://colab.research.google.com/assets/colab-badge.svg\" alt=\"Open In Colab\"/></a>"
      ]
    },
    {
      "cell_type": "markdown",
      "source": [
        "# **Challenge Question**\n",
        "\n",
        "1.   Write a python program to sort the list of hetergeneous data.\n",
        "\n"
      ],
      "metadata": {
        "id": "GdjqmenyhcyG"
      }
    },
    {
      "cell_type": "code",
      "execution_count": 1,
      "metadata": {
        "colab": {
          "base_uri": "https://localhost:8080/"
        },
        "id": "OuEvDnN3hSpo",
        "outputId": "6a75c3be-af8e-4153-977d-105b3e439580"
      },
      "outputs": [
        {
          "output_type": "stream",
          "name": "stdout",
          "text": [
            "sorted list: ['Aman', 'Ram', 'Shyam', 1, 2, 3]\n"
          ]
        }
      ],
      "source": [
        " L = [\"Ram\", 1, \"Shyam\", 2, \"Aman\", 3]\n",
        " L1 = sorted([x for x in L if isinstance(x, str)])\n",
        " L2 = sorted([x for x in L if isinstance(x, int)])\n",
        " sorted_L=L1+L2\n",
        " print(\"sorted list:\",sorted_L)"
      ]
    }
  ]
}